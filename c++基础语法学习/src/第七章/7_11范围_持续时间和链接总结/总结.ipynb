{
 "cells": [
  {
   "cell_type": "markdown",
   "metadata": {},
   "source": [
    "## 范围_持续时间和链接总结"
   ]
  },
  {
   "cell_type": "markdown",
   "metadata": {},
   "source": [
    "### 范围摘要"
   ]
  },
  {
   "cell_type": "markdown",
   "metadata": {},
   "source": [
    "#### 标识符的作用域决定了可以在源代码中访问标识符的位置\n",
    "##### 具有块（局部）作用域的变量只能从声明点访问，直到声明它们的块（包括嵌套块）的末尾。这包括：\n",
    "###### 局部变量\n",
    "###### 函数参数"
   ]
  },
  {
   "cell_type": "markdown",
   "metadata": {},
   "source": []
  }
 ],
 "metadata": {
  "language_info": {
   "name": "python"
  }
 },
 "nbformat": 4,
 "nbformat_minor": 2
}
